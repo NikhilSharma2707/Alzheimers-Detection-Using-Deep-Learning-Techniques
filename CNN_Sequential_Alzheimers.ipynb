{
  "nbformat": 4,
  "nbformat_minor": 0,
  "metadata": {
    "colab": {
      "provenance": [],
      "gpuType": "T4",
      "include_colab_link": true
    },
    "kernelspec": {
      "name": "python3",
      "display_name": "Python 3"
    },
    "language_info": {
      "name": "python"
    },
    "accelerator": "GPU"
  },
  "cells": [
    {
      "cell_type": "markdown",
      "metadata": {
        "id": "view-in-github",
        "colab_type": "text"
      },
      "source": [
        "<a href=\"https://colab.research.google.com/github/NikhilSharma2707/Alzheimers-Detection-Using-Deep-Learning-Techniques/blob/master/CNN_Sequential_Alzheimers.ipynb\" target=\"_parent\"><img src=\"https://colab.research.google.com/assets/colab-badge.svg\" alt=\"Open In Colab\"/></a>"
      ]
    },
    {
      "cell_type": "code",
      "execution_count": null,
      "metadata": {
        "colab": {
          "base_uri": "https://localhost:8080/"
        },
        "id": "ppE5b3gMdvJl",
        "outputId": "e703fbcc-008f-4f5f-bd4a-34b11e6dad3d"
      },
      "outputs": [
        {
          "output_type": "stream",
          "name": "stdout",
          "text": [
            "Downloading imagesoasis, 1322017985 bytes compressed\n",
            "[==================================================] 1322017985 bytes downloaded\n",
            "Downloaded and uncompressed: imagesoasis\n",
            "Data source import complete.\n"
          ]
        }
      ],
      "source": [
        "import os\n",
        "import sys\n",
        "from tempfile import NamedTemporaryFile\n",
        "from urllib.request import urlopen\n",
        "from urllib.parse import unquote, urlparse\n",
        "from urllib.error import HTTPError\n",
        "from zipfile import ZipFile\n",
        "import tarfile\n",
        "import shutil\n",
        "\n",
        "CHUNK_SIZE = 40960\n",
        "DATA_SOURCE_MAPPING = 'imagesoasis:https%3A%2F%2Fstorage.googleapis.com%2Fkaggle-data-sets%2F3419493%2F5962731%2Fbundle%2Farchive.zip%3FX-Goog-Algorithm%3DGOOG4-RSA-SHA256%26X-Goog-Credential%3Dgcp-kaggle-com%2540kaggle-161607.iam.gserviceaccount.com%252F20240424%252Fauto%252Fstorage%252Fgoog4_request%26X-Goog-Date%3D20240424T090955Z%26X-Goog-Expires%3D259200%26X-Goog-SignedHeaders%3Dhost%26X-Goog-Signature%3D1b13f5513ec4cc22f6784069569fd7eadd60095903b58e4c7ec537eff4f665457af8ed905c6b26275166d92a1670eaec35d6565bd25aca19cee74f21a3da0922dede27e87a364e5a8dad66c912dfca59d04c6ed0fe56337720443f58685e5d600f9b1bd77bdca8b8caf6f005dd38e8daa055d0c59ba5452f28766028530634cafc5f0fe10eb46d9dffe279f3035346f0981bfa501f574726478c8f48175caaa982dcec4f26181be5ead0bc9cc6d13eb1c61faa970730cb82baed7b93c29d41be7fb8351624c8ef1fdd8b476765aa62c0317e42a4703bcb195f675130e9a0742f3b993d291380708aee9314d55dadbc0bf2d56183a9f75126bdaa6d121346bac7'\n",
        "\n",
        "KAGGLE_INPUT_PATH='/kaggle/input'\n",
        "KAGGLE_WORKING_PATH='/kaggle/working'\n",
        "KAGGLE_SYMLINK='kaggle'\n",
        "\n",
        "!umount /kaggle/input/ 2> /dev/null\n",
        "shutil.rmtree('/kaggle/input', ignore_errors=True)\n",
        "os.makedirs(KAGGLE_INPUT_PATH, 0o777, exist_ok=True)\n",
        "os.makedirs(KAGGLE_WORKING_PATH, 0o777, exist_ok=True)\n",
        "\n",
        "try:\n",
        "  os.symlink(KAGGLE_INPUT_PATH, os.path.join(\"..\", 'input'), target_is_directory=True)\n",
        "except FileExistsError:\n",
        "  pass\n",
        "try:\n",
        "  os.symlink(KAGGLE_WORKING_PATH, os.path.join(\"..\", 'working'), target_is_directory=True)\n",
        "except FileExistsError:\n",
        "  pass\n",
        "\n",
        "for data_source_mapping in DATA_SOURCE_MAPPING.split(','):\n",
        "    directory, download_url_encoded = data_source_mapping.split(':')\n",
        "    download_url = unquote(download_url_encoded)\n",
        "    filename = urlparse(download_url).path\n",
        "    destination_path = os.path.join(KAGGLE_INPUT_PATH, directory)\n",
        "    try:\n",
        "        with urlopen(download_url) as fileres, NamedTemporaryFile() as tfile:\n",
        "            total_length = fileres.headers['content-length']\n",
        "            print(f'Downloading {directory}, {total_length} bytes compressed')\n",
        "            dl = 0\n",
        "            data = fileres.read(CHUNK_SIZE)\n",
        "            while len(data) > 0:\n",
        "                dl += len(data)\n",
        "                tfile.write(data)\n",
        "                done = int(50 * dl / int(total_length))\n",
        "                sys.stdout.write(f\"\\r[{'=' * done}{' ' * (50-done)}] {dl} bytes downloaded\")\n",
        "                sys.stdout.flush()\n",
        "                data = fileres.read(CHUNK_SIZE)\n",
        "            if filename.endswith('.zip'):\n",
        "              with ZipFile(tfile) as zfile:\n",
        "                zfile.extractall(destination_path)\n",
        "            else:\n",
        "              with tarfile.open(tfile.name) as tarfile:\n",
        "                tarfile.extractall(destination_path)\n",
        "            print(f'\\nDownloaded and uncompressed: {directory}')\n",
        "    except HTTPError as e:\n",
        "        print(f'Failed to load (likely expired) {download_url} to path {destination_path}')\n",
        "        continue\n",
        "    except OSError as e:\n",
        "        print(f'Failed to load {download_url} to path {destination_path}')\n",
        "        continue\n",
        "\n",
        "print('Data source import complete.')\n"
      ]
    },
    {
      "cell_type": "code",
      "source": [
        "\n",
        "import numpy as np\n",
        "import pandas as pd\n",
        "import keras\n",
        "import matplotlib.pyplot as plt\n",
        "import re\n",
        "import os\n",
        "import random\n",
        "import tensorflow as tf\n",
        "import plotly.express as px\n",
        "\n",
        "from keras.models import Sequential\n",
        "from PIL import Image\n",
        "from keras.layers import Conv2D,Flatten,Dense,Dropout,BatchNormalization,MaxPooling2D\n",
        "from sklearn.preprocessing import OneHotEncoder, label_binarize\n",
        "from sklearn.model_selection import train_test_split\n",
        "from sklearn.metrics import auc, average_precision_score, confusion_matrix, roc_auc_score, f1_score, confusion_matrix, precision_recall_fscore_support\n",
        "from tensorflow.keras.applications import EfficientNetB0, EfficientNetV2B1\n",
        "from tensorflow.keras import layers, models\n",
        "from tensorflow.keras.utils import to_categorical\n",
        "from tensorflow.keras.callbacks import EarlyStopping\n",
        "from tensorflow.keras.optimizers import Adam\n",
        "from tensorflow.keras.models import clone_model\n",
        "from matplotlib.colors import LogNorm, LinearSegmentedColormap\n",
        "from PIL import Image\n",
        "from scipy.stats import skew\n",
        "from tqdm import tqdm"
      ],
      "metadata": {
        "id": "BICT8TWwetT-"
      },
      "execution_count": null,
      "outputs": []
    },
    {
      "cell_type": "code",
      "source": [
        "non_demented = []\n",
        "very_mild_demented = []\n",
        "mild_demented = []\n",
        "moderate_demented = []\n",
        "\n",
        "\n",
        "for dirname, _, filenames in os.walk('/kaggle/input/imagesoasis/Data/Non Demented'):\n",
        "    for filename in filenames:\n",
        "        non_demented.append(os.path.join(dirname, filename))\n",
        "\n",
        "for dirname, _, filenames in os.walk('/kaggle/input/imagesoasis/Data/Very mild Dementia'):\n",
        "    for filename in filenames:\n",
        "        very_mild_demented.append(os.path.join(dirname, filename))\n",
        "\n",
        "for dirname, _, filenames in os.walk('/kaggle/input/imagesoasis/Data/Mild Dementia'):\n",
        "    for filename in filenames:\n",
        "        mild_demented.append(os.path.join(dirname, filename))\n",
        "\n",
        "for dirname, _, filenames in os.walk('/kaggle/input/imagesoasis/Data/Moderate Dementia'):\n",
        "    for filename in filenames:\n",
        "        moderate_demented.append(os.path.join(dirname, filename))"
      ],
      "metadata": {
        "id": "TEDTJKzOfBJo"
      },
      "execution_count": null,
      "outputs": []
    },
    {
      "cell_type": "code",
      "source": [
        "print(len(non_demented))\n",
        "print(len(very_mild_demented))\n",
        "print(len(mild_demented))\n",
        "print(len(moderate_demented))"
      ],
      "metadata": {
        "colab": {
          "base_uri": "https://localhost:8080/"
        },
        "id": "MgwwX62PfM9d",
        "outputId": "838f6ae4-bd45-4d64-c683-ce4a59b7f7fc"
      },
      "execution_count": null,
      "outputs": [
        {
          "output_type": "stream",
          "name": "stdout",
          "text": [
            "67222\n",
            "13725\n",
            "5002\n",
            "488\n"
          ]
        }
      ]
    },
    {
      "cell_type": "code",
      "source": [
        "def get_info_from_filename(filename):\n",
        "    pattern = re.compile('OAS1_(\\d+)_MR(\\d+)_mpr-(\\d+)_(\\d+).jpg')\n",
        "    match = pattern.match(filename)\n",
        "    patient_id = match.group(1)\n",
        "    mr_id = match.group(2)\n",
        "    scan_id = match.group(3)\n",
        "    layer_id = match.group(4)\n",
        "\n",
        "    return patient_id, mr_id, scan_id, layer_id"
      ],
      "metadata": {
        "id": "IZ7iC-iqfQTD"
      },
      "execution_count": null,
      "outputs": []
    },
    {
      "cell_type": "code",
      "source": [
        "def create_ref_df(dataset_path):\n",
        "    paths, labels = [], []\n",
        "    patient_ids, mr_ids, scan_ids, layer_ids = [], [], [], []\n",
        "\n",
        "\n",
        "    for folder in os.listdir(dataset_path):\n",
        "\n",
        "\n",
        "        for file in os.listdir(os.path.join(dataset_path, folder)):\n",
        "\n",
        "\n",
        "            patient_id, mr_id, scan_id, layer_id = get_info_from_filename(file)\n",
        "\n",
        "\n",
        "            paths.append(os.path.join(dataset_path, folder, file))\n",
        "            labels.append(folder)\n",
        "            patient_ids.append(patient_id)\n",
        "            mr_ids.append(mr_id)\n",
        "            scan_ids.append(scan_id)\n",
        "            layer_ids.append(layer_id)\n",
        "\n",
        "\n",
        "    ref_df = pd.DataFrame({\n",
        "        'path': paths,\n",
        "        'label': labels,\n",
        "        'patient_id': patient_ids,\n",
        "        'mr_id': mr_ids,\n",
        "        'scan_id': scan_ids,\n",
        "        'layer_id': layer_ids\n",
        "    })\n",
        "\n",
        "\n",
        "    ref_df = ref_df.astype({\n",
        "        'path': 'string',\n",
        "        'label': 'string',\n",
        "        'patient_id': 'int64',\n",
        "        'mr_id': 'int64',\n",
        "        'scan_id': 'int64',\n",
        "        'layer_id': 'int64'\n",
        "    })\n",
        "\n",
        "    return ref_df"
      ],
      "metadata": {
        "id": "1E5YWJZ6fUgn"
      },
      "execution_count": null,
      "outputs": []
    },
    {
      "cell_type": "code",
      "source": [
        "ref_df = create_ref_df('/kaggle/input/imagesoasis/Data')"
      ],
      "metadata": {
        "id": "I7JL0NI5fWqh"
      },
      "execution_count": null,
      "outputs": []
    },
    {
      "cell_type": "code",
      "source": [
        "def load_labels_and_paths(ref_df):\n",
        "    labels = []\n",
        "    paths = []\n",
        "\n",
        "\n",
        "    for idx, row in tqdm(ref_df.iterrows(), total=ref_df.shape[0]):\n",
        "\n",
        "\n",
        "        labels.append(row['label'])\n",
        "        paths.append(row['path'])\n",
        "\n",
        "\n",
        "    return labels, paths"
      ],
      "metadata": {
        "id": "p9UHngaEfio5"
      },
      "execution_count": null,
      "outputs": []
    },
    {
      "cell_type": "code",
      "source": [
        "labels, paths = load_labels_and_paths(ref_df)"
      ],
      "metadata": {
        "colab": {
          "base_uri": "https://localhost:8080/"
        },
        "id": "GhYKSD6Ffsaw",
        "outputId": "d7787678-a324-431a-e207-360ae0e71a98"
      },
      "execution_count": null,
      "outputs": [
        {
          "output_type": "stream",
          "name": "stderr",
          "text": [
            "100%|██████████| 86437/86437 [00:05<00:00, 16917.90it/s]\n"
          ]
        }
      ]
    },
    {
      "cell_type": "code",
      "source": [
        "def get_image_stats(images, labels, paths):\n",
        "    means, stds, widths, heights = [], [], [], []\n",
        "    skewnesses = []\n",
        "\n",
        "\n",
        "    for image in tqdm(images):\n",
        "\n",
        "\n",
        "        means.append(np.mean(image))\n",
        "        stds.append(np.std(image))\n",
        "\n",
        "\n",
        "        widths.append(image.shape[0])\n",
        "        heights.append(image.shape[1])\n",
        "\n",
        "\n",
        "        image_hist = np.histogram(image.flatten())[0]\n",
        "        skewnesses.append(skew(image_hist))\n",
        "\n",
        "\n",
        "    image_stats = pd.DataFrame({\n",
        "        'mean': means,\n",
        "        'std': stds,\n",
        "        'width': widths,\n",
        "        'height': heights,\n",
        "        'skew': skewnesses\n",
        "    })\n",
        "\n",
        "\n",
        "    image_stats['label'] = labels\n",
        "    image_stats['path'] = paths\n",
        "\n",
        "    return image_stats"
      ],
      "metadata": {
        "id": "bg5UCUzpfyHi"
      },
      "execution_count": null,
      "outputs": []
    },
    {
      "cell_type": "code",
      "source": [
        "frequencies = [len(non_demented),  len(very_mild_demented), len(moderate_demented), len(mild_demented),]\n",
        "class_names = [\"non_demented\", \"very_mild_demented\", \"moderate_demented\", \"mild_demented\"]\n",
        "\n",
        "\n",
        "sorted_indices = np.argsort(frequencies)[::-1]\n",
        "class_names = np.array(class_names)[sorted_indices]\n",
        "frequencies = np.array(frequencies)[sorted_indices]"
      ],
      "metadata": {
        "id": "06i026pVgA2g"
      },
      "execution_count": null,
      "outputs": []
    },
    {
      "cell_type": "code",
      "source": [
        "random.seed(42)\n",
        "\n",
        "\n",
        "# Split off a test set for the moderate_demented class\n",
        "moderate_demented_train, moderate_demented_test = train_test_split(\n",
        "    moderate_demented, test_size=0.20, random_state=42\n",
        ")\n",
        "\n",
        "# Split off a test set for the mild_demented class\n",
        "mild_demented_train, mild_demented_test = train_test_split(\n",
        "    mild_demented, test_size=0.20, random_state=42\n",
        ")\n",
        "\n",
        "# Split off a test set for the very_mild_demented class\n",
        "very_mild_demented_train, very_mild_demented_test = train_test_split(\n",
        "    very_mild_demented, test_size=0.20, random_state=42\n",
        ")\n",
        "\n",
        "# Split off a test set for the non_demented class\n",
        "non_demented_train, non_demented_test = train_test_split(\n",
        "    non_demented, test_size=0.20, random_state=42\n",
        ")"
      ],
      "metadata": {
        "id": "WLBjMl4WgCsI"
      },
      "execution_count": null,
      "outputs": []
    },
    {
      "cell_type": "code",
      "source": [
        "print(len(non_demented_train))\n",
        "print(len(very_mild_demented_train))\n",
        "print(len(mild_demented_train))\n",
        "print(len(moderate_demented_train))"
      ],
      "metadata": {
        "colab": {
          "base_uri": "https://localhost:8080/"
        },
        "id": "nKOEb5i_gJAd",
        "outputId": "9fa1b870-6216-46ac-e1ca-8348eb6818d6"
      },
      "execution_count": null,
      "outputs": [
        {
          "output_type": "stream",
          "name": "stdout",
          "text": [
            "53777\n",
            "10980\n",
            "4001\n",
            "390\n"
          ]
        }
      ]
    },
    {
      "cell_type": "code",
      "source": [
        "target_samples = 5000\n",
        "\n",
        "# Oversample small classes\n",
        "moderate_demented_samp = random.choices(moderate_demented_train, k=target_samples)\n",
        "mild_demented_samp = random.choices(mild_demented_train, k=target_samples)\n",
        "\n",
        "# Undersample large classes\n",
        "very_mild_demented_samp = random.sample(very_mild_demented_train, k=target_samples)\n",
        "non_demented_samp = random.sample(non_demented_train, k=target_samples)"
      ],
      "metadata": {
        "id": "tfZHnO6CgUxe"
      },
      "execution_count": null,
      "outputs": []
    },
    {
      "cell_type": "code",
      "source": [
        "print(len(non_demented_samp))\n",
        "print(len(very_mild_demented_samp))\n",
        "print(len(mild_demented_samp))\n",
        "print(len(moderate_demented_samp))"
      ],
      "metadata": {
        "colab": {
          "base_uri": "https://localhost:8080/"
        },
        "id": "9vEhjJGyga-o",
        "outputId": "70dc109b-79f3-4714-9a6f-8ccca47a2e9e"
      },
      "execution_count": null,
      "outputs": [
        {
          "output_type": "stream",
          "name": "stdout",
          "text": [
            "5000\n",
            "5000\n",
            "5000\n",
            "5000\n"
          ]
        }
      ]
    },
    {
      "cell_type": "code",
      "source": [
        "print(len(non_demented_test))\n",
        "print(len(very_mild_demented_test))\n",
        "print(len(mild_demented_test))\n",
        "print(len(moderate_demented_test))"
      ],
      "metadata": {
        "colab": {
          "base_uri": "https://localhost:8080/"
        },
        "id": "84w3TlsegnlH",
        "outputId": "1df5089c-8fb3-4071-ffa8-2effff306256"
      },
      "execution_count": null,
      "outputs": [
        {
          "output_type": "stream",
          "name": "stdout",
          "text": [
            "13445\n",
            "2745\n",
            "1001\n",
            "98\n"
          ]
        }
      ]
    },
    {
      "cell_type": "code",
      "source": [
        "target_samples = 640\n",
        "\n",
        "# Undersample large classes\n",
        "mild_demented_test = random.sample(mild_demented_test, k=target_samples)\n",
        "very_mild_demented_test = random.sample(very_mild_demented_test, k=target_samples)\n",
        "non_demented_test = random.sample(non_demented_test, k=target_samples)"
      ],
      "metadata": {
        "id": "f2XnbBglhMIt"
      },
      "execution_count": null,
      "outputs": []
    },
    {
      "cell_type": "code",
      "source": [
        "encoder = OneHotEncoder()\n",
        "encoder.fit([[0],[1],[2],[3]])"
      ],
      "metadata": {
        "colab": {
          "base_uri": "https://localhost:8080/",
          "height": 74
        },
        "id": "me_sfT8mhQF4",
        "outputId": "a5a71aae-bacb-46f4-d861-19a52d03031f"
      },
      "execution_count": null,
      "outputs": [
        {
          "output_type": "execute_result",
          "data": {
            "text/plain": [
              "OneHotEncoder()"
            ],
            "text/html": [
              "<style>#sk-container-id-1 {color: black;background-color: white;}#sk-container-id-1 pre{padding: 0;}#sk-container-id-1 div.sk-toggleable {background-color: white;}#sk-container-id-1 label.sk-toggleable__label {cursor: pointer;display: block;width: 100%;margin-bottom: 0;padding: 0.3em;box-sizing: border-box;text-align: center;}#sk-container-id-1 label.sk-toggleable__label-arrow:before {content: \"▸\";float: left;margin-right: 0.25em;color: #696969;}#sk-container-id-1 label.sk-toggleable__label-arrow:hover:before {color: black;}#sk-container-id-1 div.sk-estimator:hover label.sk-toggleable__label-arrow:before {color: black;}#sk-container-id-1 div.sk-toggleable__content {max-height: 0;max-width: 0;overflow: hidden;text-align: left;background-color: #f0f8ff;}#sk-container-id-1 div.sk-toggleable__content pre {margin: 0.2em;color: black;border-radius: 0.25em;background-color: #f0f8ff;}#sk-container-id-1 input.sk-toggleable__control:checked~div.sk-toggleable__content {max-height: 200px;max-width: 100%;overflow: auto;}#sk-container-id-1 input.sk-toggleable__control:checked~label.sk-toggleable__label-arrow:before {content: \"▾\";}#sk-container-id-1 div.sk-estimator input.sk-toggleable__control:checked~label.sk-toggleable__label {background-color: #d4ebff;}#sk-container-id-1 div.sk-label input.sk-toggleable__control:checked~label.sk-toggleable__label {background-color: #d4ebff;}#sk-container-id-1 input.sk-hidden--visually {border: 0;clip: rect(1px 1px 1px 1px);clip: rect(1px, 1px, 1px, 1px);height: 1px;margin: -1px;overflow: hidden;padding: 0;position: absolute;width: 1px;}#sk-container-id-1 div.sk-estimator {font-family: monospace;background-color: #f0f8ff;border: 1px dotted black;border-radius: 0.25em;box-sizing: border-box;margin-bottom: 0.5em;}#sk-container-id-1 div.sk-estimator:hover {background-color: #d4ebff;}#sk-container-id-1 div.sk-parallel-item::after {content: \"\";width: 100%;border-bottom: 1px solid gray;flex-grow: 1;}#sk-container-id-1 div.sk-label:hover label.sk-toggleable__label {background-color: #d4ebff;}#sk-container-id-1 div.sk-serial::before {content: \"\";position: absolute;border-left: 1px solid gray;box-sizing: border-box;top: 0;bottom: 0;left: 50%;z-index: 0;}#sk-container-id-1 div.sk-serial {display: flex;flex-direction: column;align-items: center;background-color: white;padding-right: 0.2em;padding-left: 0.2em;position: relative;}#sk-container-id-1 div.sk-item {position: relative;z-index: 1;}#sk-container-id-1 div.sk-parallel {display: flex;align-items: stretch;justify-content: center;background-color: white;position: relative;}#sk-container-id-1 div.sk-item::before, #sk-container-id-1 div.sk-parallel-item::before {content: \"\";position: absolute;border-left: 1px solid gray;box-sizing: border-box;top: 0;bottom: 0;left: 50%;z-index: -1;}#sk-container-id-1 div.sk-parallel-item {display: flex;flex-direction: column;z-index: 1;position: relative;background-color: white;}#sk-container-id-1 div.sk-parallel-item:first-child::after {align-self: flex-end;width: 50%;}#sk-container-id-1 div.sk-parallel-item:last-child::after {align-self: flex-start;width: 50%;}#sk-container-id-1 div.sk-parallel-item:only-child::after {width: 0;}#sk-container-id-1 div.sk-dashed-wrapped {border: 1px dashed gray;margin: 0 0.4em 0.5em 0.4em;box-sizing: border-box;padding-bottom: 0.4em;background-color: white;}#sk-container-id-1 div.sk-label label {font-family: monospace;font-weight: bold;display: inline-block;line-height: 1.2em;}#sk-container-id-1 div.sk-label-container {text-align: center;}#sk-container-id-1 div.sk-container {/* jupyter's `normalize.less` sets `[hidden] { display: none; }` but bootstrap.min.css set `[hidden] { display: none !important; }` so we also need the `!important` here to be able to override the default hidden behavior on the sphinx rendered scikit-learn.org. See: https://github.com/scikit-learn/scikit-learn/issues/21755 */display: inline-block !important;position: relative;}#sk-container-id-1 div.sk-text-repr-fallback {display: none;}</style><div id=\"sk-container-id-1\" class=\"sk-top-container\"><div class=\"sk-text-repr-fallback\"><pre>OneHotEncoder()</pre><b>In a Jupyter environment, please rerun this cell to show the HTML representation or trust the notebook. <br />On GitHub, the HTML representation is unable to render, please try loading this page with nbviewer.org.</b></div><div class=\"sk-container\" hidden><div class=\"sk-item\"><div class=\"sk-estimator sk-toggleable\"><input class=\"sk-toggleable__control sk-hidden--visually\" id=\"sk-estimator-id-1\" type=\"checkbox\" checked><label for=\"sk-estimator-id-1\" class=\"sk-toggleable__label sk-toggleable__label-arrow\">OneHotEncoder</label><div class=\"sk-toggleable__content\"><pre>OneHotEncoder()</pre></div></div></div></div></div>"
            ]
          },
          "metadata": {},
          "execution_count": 25
        }
      ]
    },
    {
      "cell_type": "code",
      "source": [
        "data = []\n",
        "result = []\n",
        "\n",
        "# Loop through each category and transform data and result into right format (128x128x3 & one-hot encoded)\n",
        "# and merge categories together\n",
        "for path in non_demented_samp:\n",
        "    img = Image.open(path)\n",
        "    img = img.resize((128,128))\n",
        "    img = np.array(img)\n",
        "    if(img.shape == (128,128,3)):\n",
        "        data.append(np.array(img))\n",
        "        result.append(encoder.transform([[0]]).toarray())\n",
        "\n",
        "for path in very_mild_demented_samp:\n",
        "    img = Image.open(path)\n",
        "    img = img.resize((128,128))\n",
        "    img = np.array(img)\n",
        "    if(img.shape == (128,128,3)):\n",
        "        data.append(np.array(img))\n",
        "        result.append(encoder.transform([[1]]).toarray())\n",
        "for path in mild_demented_samp:\n",
        "    img = Image.open(path)\n",
        "    img = img.resize((128,128))\n",
        "    img = np.array(img)\n",
        "    if(img.shape == (128,128,3)):\n",
        "        data.append(np.array(img))\n",
        "        result.append(encoder.transform([[2]]).toarray())\n",
        "\n",
        "for path in moderate_demented_samp:\n",
        "    img = Image.open(path)\n",
        "    img = img.resize((128,128))\n",
        "    img = np.array(img)\n",
        "    if(img.shape == (128,128,3)):\n",
        "        data.append(np.array(img))\n",
        "        result.append(encoder.transform([[3]]).toarray())"
      ],
      "metadata": {
        "id": "eB2f7gYWhWi_"
      },
      "execution_count": null,
      "outputs": []
    },
    {
      "cell_type": "code",
      "source": [
        "data = np.array(data)\n",
        "\n",
        "\n",
        "data.shape"
      ],
      "metadata": {
        "colab": {
          "base_uri": "https://localhost:8080/"
        },
        "id": "vfxF2xW_h-Ug",
        "outputId": "0c08dc48-d146-42e4-ba28-ae2961c7501c"
      },
      "execution_count": null,
      "outputs": [
        {
          "output_type": "execute_result",
          "data": {
            "text/plain": [
              "(20000, 128, 128, 3)"
            ]
          },
          "metadata": {},
          "execution_count": 27
        }
      ]
    },
    {
      "cell_type": "code",
      "source": [
        "result = np.array(result)\n",
        "\n",
        "\n",
        "result = result.reshape((data.shape[0],4))\n",
        "\n",
        "\n",
        "result.shape"
      ],
      "metadata": {
        "colab": {
          "base_uri": "https://localhost:8080/"
        },
        "id": "Cyvv--jJiExD",
        "outputId": "8d2025f6-a8cc-4847-bc31-99ebdb5a3c2b"
      },
      "execution_count": null,
      "outputs": [
        {
          "output_type": "execute_result",
          "data": {
            "text/plain": [
              "(20000, 4)"
            ]
          },
          "metadata": {},
          "execution_count": 28
        }
      ]
    },
    {
      "cell_type": "code",
      "source": [
        "x_train,x_val,y_train,y_val = train_test_split(data,result, test_size=0.20, shuffle=True, random_state=42)"
      ],
      "metadata": {
        "id": "mpmyuHfdiMnm"
      },
      "execution_count": null,
      "outputs": []
    },
    {
      "cell_type": "code",
      "source": [
        "data_test = []\n",
        "result_test = []\n",
        "\n",
        "for path in non_demented_test:\n",
        "    img = Image.open(path)\n",
        "    img = img.resize((128,128))\n",
        "    img = np.array(img)\n",
        "    if(img.shape == (128,128,3)):\n",
        "        data_test.append(np.array(img))\n",
        "        result_test.append(encoder.transform([[0]]).toarray())\n",
        "\n",
        "for path in very_mild_demented_test:\n",
        "    img = Image.open(path)\n",
        "    img = img.resize((128,128))\n",
        "    img = np.array(img)\n",
        "    if(img.shape == (128,128,3)):\n",
        "        data_test.append(np.array(img))\n",
        "        result_test.append(encoder.transform([[1]]).toarray())\n",
        "\n",
        "for path in mild_demented_test:\n",
        "    img = Image.open(path)\n",
        "    img = img.resize((128,128))\n",
        "    img = np.array(img)\n",
        "    if(img.shape == (128,128,3)):\n",
        "        data_test.append(np.array(img))\n",
        "        result_test.append(encoder.transform([[2]]).toarray())\n",
        "\n",
        "for path in moderate_demented_test:\n",
        "    img = Image.open(path)\n",
        "    img = img.resize((128,128))\n",
        "    img = np.array(img)\n",
        "    if(img.shape == (128,128,3)):\n",
        "        data_test.append(np.array(img))\n",
        "        result_test.append(encoder.transform([[3]]).toarray())\n"
      ],
      "metadata": {
        "id": "xzySFOWZiTky"
      },
      "execution_count": null,
      "outputs": []
    },
    {
      "cell_type": "code",
      "source": [
        "data_test = np.array(data_test)\n",
        "data_test.shape"
      ],
      "metadata": {
        "colab": {
          "base_uri": "https://localhost:8080/"
        },
        "id": "vL17D7rUinx1",
        "outputId": "ed94b5be-db3e-47e4-f1db-b2ead4fb8ed2"
      },
      "execution_count": null,
      "outputs": [
        {
          "output_type": "execute_result",
          "data": {
            "text/plain": [
              "(2018, 128, 128, 3)"
            ]
          },
          "metadata": {},
          "execution_count": 31
        }
      ]
    },
    {
      "cell_type": "code",
      "source": [
        "result_test = np.array(result_test)\n",
        "result_test = result_test.reshape((data_test.shape[0],4))\n",
        "result_test.shape"
      ],
      "metadata": {
        "colab": {
          "base_uri": "https://localhost:8080/"
        },
        "id": "RawqwV1viupZ",
        "outputId": "1019a097-3e44-4e62-b4e6-0297f67faede"
      },
      "execution_count": null,
      "outputs": [
        {
          "output_type": "execute_result",
          "data": {
            "text/plain": [
              "(2018, 4)"
            ]
          },
          "metadata": {},
          "execution_count": 32
        }
      ]
    },
    {
      "cell_type": "code",
      "source": [
        "x_test = data_test\n",
        "y_test = result_test\n"
      ],
      "metadata": {
        "id": "6zuB_HiziyHG"
      },
      "execution_count": null,
      "outputs": []
    },
    {
      "cell_type": "code",
      "source": [
        "y_train_int = np.argmax(y_train, axis=1)\n",
        "y_val_int = np.argmax(y_val, axis=1)"
      ],
      "metadata": {
        "id": "GyKJyo-ei6N0"
      },
      "execution_count": null,
      "outputs": []
    },
    {
      "cell_type": "code",
      "source": [
        "from keras.models import Sequential\n",
        "from keras.layers import Conv2D, MaxPooling2D, Flatten, Dense, Dropout\n",
        "\n",
        "model = Sequential()\n",
        "\n",
        "model.add(Conv2D(32, (3, 3), activation='relu', input_shape=(128, 128, 3)))\n",
        "model.add(MaxPooling2D(pool_size=(2, 2)))\n",
        "\n",
        "model.add(Conv2D(64, (3, 3), activation='relu'))\n",
        "model.add(MaxPooling2D(pool_size=(2, 2)))\n",
        "\n",
        "model.add(Conv2D(128, (3, 3), activation='relu'))\n",
        "model.add(MaxPooling2D(pool_size=(2, 2)))\n",
        "\n",
        "model.add(Flatten())\n",
        "model.add(Dense(512, activation='relu'))\n",
        "model.add(Dropout(0.5))\n",
        "\n",
        "model.add(Dense(4, activation='softmax'))  # Output layer with 4 units for 4 classes\n",
        "\n",
        "# Compile the model\n",
        "model.compile(loss='categorical_crossentropy', optimizer='adam', metrics=['accuracy'])\n",
        "\n",
        "\n",
        "model.summary()\n",
        "\n",
        "\n",
        "history = model.fit(x_train, y_train, batch_size=32, epochs=20, validation_data=(x_val, y_val))\n",
        "\n",
        "# Evaluate the model on test data\n",
        "test_loss, test_accuracy = model.evaluate(x_test, y_test)\n",
        "print(f'Test Loss: {test_loss}, Test Accuracy: {test_accuracy}')\n",
        "\n",
        "# Plot training history\n",
        "plt.plot(history.history['accuracy'], label='Training Accuracy')\n",
        "plt.plot(history.history['val_accuracy'], label='Validation Accuracy')\n",
        "plt.xlabel('Epoch')\n",
        "plt.ylabel('Accuracy')\n",
        "plt.legend()\n",
        "plt.show()\n"
      ],
      "metadata": {
        "colab": {
          "base_uri": "https://localhost:8080/",
          "height": 1000
        },
        "id": "qV0nXKmmi-R7",
        "outputId": "d237e955-bb0e-4d00-a5c8-c79dac619f3b"
      },
      "execution_count": null,
      "outputs": [
        {
          "output_type": "stream",
          "name": "stdout",
          "text": [
            "Model: \"sequential\"\n",
            "_________________________________________________________________\n",
            " Layer (type)                Output Shape              Param #   \n",
            "=================================================================\n",
            " conv2d (Conv2D)             (None, 126, 126, 32)      896       \n",
            "                                                                 \n",
            " max_pooling2d (MaxPooling2  (None, 63, 63, 32)        0         \n",
            " D)                                                              \n",
            "                                                                 \n",
            " conv2d_1 (Conv2D)           (None, 61, 61, 64)        18496     \n",
            "                                                                 \n",
            " max_pooling2d_1 (MaxPoolin  (None, 30, 30, 64)        0         \n",
            " g2D)                                                            \n",
            "                                                                 \n",
            " conv2d_2 (Conv2D)           (None, 28, 28, 128)       73856     \n",
            "                                                                 \n",
            " max_pooling2d_2 (MaxPoolin  (None, 14, 14, 128)       0         \n",
            " g2D)                                                            \n",
            "                                                                 \n",
            " flatten (Flatten)           (None, 25088)             0         \n",
            "                                                                 \n",
            " dense (Dense)               (None, 512)               12845568  \n",
            "                                                                 \n",
            " dropout (Dropout)           (None, 512)               0         \n",
            "                                                                 \n",
            " dense_1 (Dense)             (None, 4)                 2052      \n",
            "                                                                 \n",
            "=================================================================\n",
            "Total params: 12940868 (49.37 MB)\n",
            "Trainable params: 12940868 (49.37 MB)\n",
            "Non-trainable params: 0 (0.00 Byte)\n",
            "_________________________________________________________________\n",
            "Epoch 1/20\n",
            "500/500 [==============================] - 17s 21ms/step - loss: 3.1356 - accuracy: 0.7298 - val_loss: 0.2793 - val_accuracy: 0.8930\n",
            "Epoch 2/20\n",
            "500/500 [==============================] - 11s 22ms/step - loss: 0.2591 - accuracy: 0.8971 - val_loss: 0.1471 - val_accuracy: 0.9467\n",
            "Epoch 3/20\n",
            "500/500 [==============================] - 10s 20ms/step - loss: 0.1728 - accuracy: 0.9333 - val_loss: 0.1313 - val_accuracy: 0.9530\n",
            "Epoch 4/20\n",
            "500/500 [==============================] - 10s 21ms/step - loss: 0.1251 - accuracy: 0.9518 - val_loss: 0.0766 - val_accuracy: 0.9760\n",
            "Epoch 5/20\n",
            "500/500 [==============================] - 11s 21ms/step - loss: 0.1012 - accuracy: 0.9629 - val_loss: 0.0971 - val_accuracy: 0.9643\n",
            "Epoch 6/20\n",
            "500/500 [==============================] - 11s 21ms/step - loss: 0.0949 - accuracy: 0.9660 - val_loss: 0.0572 - val_accuracy: 0.9812\n",
            "Epoch 7/20\n",
            "500/500 [==============================] - 10s 20ms/step - loss: 0.0780 - accuracy: 0.9729 - val_loss: 0.0839 - val_accuracy: 0.9697\n",
            "Epoch 8/20\n",
            "500/500 [==============================] - 11s 22ms/step - loss: 0.0808 - accuracy: 0.9728 - val_loss: 0.0835 - val_accuracy: 0.9737\n",
            "Epoch 9/20\n",
            "500/500 [==============================] - 10s 20ms/step - loss: 0.0720 - accuracy: 0.9741 - val_loss: 0.0599 - val_accuracy: 0.9827\n",
            "Epoch 10/20\n",
            "500/500 [==============================] - 10s 20ms/step - loss: 0.0589 - accuracy: 0.9799 - val_loss: 0.0575 - val_accuracy: 0.9827\n",
            "Epoch 11/20\n",
            "500/500 [==============================] - 11s 21ms/step - loss: 0.0639 - accuracy: 0.9786 - val_loss: 0.0645 - val_accuracy: 0.9825\n",
            "Epoch 12/20\n",
            "500/500 [==============================] - 10s 20ms/step - loss: 0.0624 - accuracy: 0.9793 - val_loss: 0.0637 - val_accuracy: 0.9815\n",
            "Epoch 13/20\n",
            "500/500 [==============================] - 11s 23ms/step - loss: 0.0600 - accuracy: 0.9790 - val_loss: 0.0561 - val_accuracy: 0.9825\n",
            "Epoch 14/20\n",
            "500/500 [==============================] - 11s 21ms/step - loss: 0.0535 - accuracy: 0.9820 - val_loss: 0.0900 - val_accuracy: 0.9805\n",
            "Epoch 15/20\n",
            "500/500 [==============================] - 11s 22ms/step - loss: 0.0544 - accuracy: 0.9816 - val_loss: 0.0622 - val_accuracy: 0.9840\n",
            "Epoch 16/20\n",
            "500/500 [==============================] - 11s 21ms/step - loss: 0.0501 - accuracy: 0.9847 - val_loss: 0.0696 - val_accuracy: 0.9812\n",
            "Epoch 17/20\n",
            "500/500 [==============================] - 10s 20ms/step - loss: 0.0538 - accuracy: 0.9834 - val_loss: 0.0589 - val_accuracy: 0.9858\n",
            "Epoch 18/20\n",
            "500/500 [==============================] - 10s 20ms/step - loss: 0.0523 - accuracy: 0.9837 - val_loss: 0.0634 - val_accuracy: 0.9812\n",
            "Epoch 19/20\n",
            "500/500 [==============================] - 10s 20ms/step - loss: 0.0503 - accuracy: 0.9847 - val_loss: 0.0679 - val_accuracy: 0.9847\n",
            "Epoch 20/20\n",
            "500/500 [==============================] - 10s 20ms/step - loss: 0.0501 - accuracy: 0.9845 - val_loss: 0.0563 - val_accuracy: 0.9880\n",
            "64/64 [==============================] - 1s 11ms/step - loss: 0.0922 - accuracy: 0.9812\n",
            "Test Loss: 0.09217309206724167, Test Accuracy: 0.9811694622039795\n"
          ]
        },
        {
          "output_type": "display_data",
          "data": {
            "text/plain": [
              "<Figure size 640x480 with 1 Axes>"
            ],
            "image/png": "[encoded data removed]"
          },
          "metadata": {}
        }
      ]
    },
    {
      "cell_type": "code",
      "source": [
        "model.compile(optimizer='adam', loss='sparse_categorical_crossentropy', metrics=['accuracy'])\n",
        "\n",
        "\n",
        "history = model.fit(x_train, y_train_int, epochs=10, batch_size=16,\n",
        "                    verbose=1, validation_data=(x_val, y_val_int))"
      ],
      "metadata": {
        "colab": {
          "base_uri": "https://localhost:8080/"
        },
        "id": "Z-QzZQlyjBM0",
        "outputId": "9caaf6ca-6d6b-4052-d7c9-d3b4cda95aa5"
      },
      "execution_count": null,
      "outputs": [
        {
          "output_type": "stream",
          "name": "stdout",
          "text": [
            "Epoch 1/10\n",
            "1000/1000 [==============================] - 16s 13ms/step - loss: 0.0806 - accuracy: 0.9775 - val_loss: 0.0593 - val_accuracy: 0.9872\n",
            "Epoch 2/10\n",
            "1000/1000 [==============================] - 13s 13ms/step - loss: 0.0708 - accuracy: 0.9793 - val_loss: 0.0550 - val_accuracy: 0.9880\n",
            "Epoch 3/10\n",
            "1000/1000 [==============================] - 13s 13ms/step - loss: 0.0522 - accuracy: 0.9847 - val_loss: 0.0674 - val_accuracy: 0.9850\n",
            "Epoch 4/10\n",
            "1000/1000 [==============================] - 13s 13ms/step - loss: 0.0652 - accuracy: 0.9819 - val_loss: 0.0557 - val_accuracy: 0.9835\n",
            "Epoch 5/10\n",
            "1000/1000 [==============================] - 13s 13ms/step - loss: 0.0570 - accuracy: 0.9843 - val_loss: 0.0775 - val_accuracy: 0.9843\n",
            "Epoch 6/10\n",
            "1000/1000 [==============================] - 13s 13ms/step - loss: 0.0500 - accuracy: 0.9855 - val_loss: 0.0809 - val_accuracy: 0.9855\n",
            "Epoch 7/10\n",
            "1000/1000 [==============================] - 13s 13ms/step - loss: 0.0459 - accuracy: 0.9862 - val_loss: 0.0414 - val_accuracy: 0.9900\n",
            "Epoch 8/10\n",
            "1000/1000 [==============================] - 13s 13ms/step - loss: 0.0472 - accuracy: 0.9862 - val_loss: 0.0580 - val_accuracy: 0.9905\n",
            "Epoch 9/10\n",
            "1000/1000 [==============================] - 13s 13ms/step - loss: 0.0476 - accuracy: 0.9867 - val_loss: 0.0510 - val_accuracy: 0.9898\n",
            "Epoch 10/10\n",
            "1000/1000 [==============================] - 13s 13ms/step - loss: 0.0543 - accuracy: 0.9852 - val_loss: 0.0952 - val_accuracy: 0.9852\n"
          ]
        }
      ]
    },
    {
      "cell_type": "code",
      "source": [
        "y_test_int = np.argmax(y_test, axis=1)"
      ],
      "metadata": {
        "id": "7ZpxO-l5p78c"
      },
      "execution_count": null,
      "outputs": []
    },
    {
      "cell_type": "code",
      "source": [
        "testeval = model.evaluate(x_test, y_test_int, verbose=2)\n",
        "\n",
        "print(\"Test Loss:\", testeval[0])\n",
        "print(\"Test Accuracy:\", testeval[1])"
      ],
      "metadata": {
        "colab": {
          "base_uri": "https://localhost:8080/"
        },
        "id": "L2wl0oBgpfSw",
        "outputId": "c1e7d04a-66d1-42a6-a972-87ebae400fc7"
      },
      "execution_count": null,
      "outputs": [
        {
          "output_type": "stream",
          "name": "stdout",
          "text": [
            "64/64 - 0s - loss: 0.0940 - accuracy: 0.9851 - 408ms/epoch - 6ms/step\n",
            "Test Loss: 0.09400506317615509\n",
            "Test Accuracy: 0.9851337671279907\n"
          ]
        }
      ]
    },
    {
      "cell_type": "code",
      "source": [
        "y_pred_int = np.argmax(model.predict(x_test), axis=1)\n"
      ],
      "metadata": {
        "colab": {
          "base_uri": "https://localhost:8080/"
        },
        "id": "QTH_9DmjqxJX",
        "outputId": "24fed7f3-692f-4fc8-87e6-cf21c62d5851"
      },
      "execution_count": null,
      "outputs": [
        {
          "output_type": "stream",
          "name": "stdout",
          "text": [
            "64/64 [==============================] - 0s 5ms/step\n"
          ]
        }
      ]
    },
    {
      "cell_type": "code",
      "source": [
        "y_pred_one_hot = to_categorical(y_pred_int, num_classes=4)\n",
        "\n",
        "# True labels one hot encoded: y_test\n",
        "\n",
        "# True labels integers: y_test_int\n",
        "\n",
        "# Calculate precision, recall, and F1 score per class --> uses integers\n",
        "precision, recall, f1, _ = precision_recall_fscore_support(y_test_int, y_pred_int, average=None)\n",
        "\n",
        "# Print precision, recall, and F1 score for each class\n",
        "for i, (p, r, f) in enumerate(zip(precision, recall, f1)):\n",
        "    print(f'Class {i}: Precision = {p:.4f}, Recall = {r:.4f}, F1 Score = {f:.4f}')\n",
        "\n",
        "# Calculate micro-averages --> uses one hot encoded labels\n",
        "micro_precision, micro_recall, micro_f1, _ = precision_recall_fscore_support(y_test, y_pred_one_hot, average='micro')\n",
        "\n",
        "# Print precision, recall and F1 score micro average\n",
        "print(\"Micro-average Precision:\", round(micro_precision, 4))\n",
        "print(\"Micro-average Recall:\", round(micro_recall, 4))\n",
        "print(\"Micro-average F1 Score:\", round(micro_f1, 4))"
      ],
      "metadata": {
        "colab": {
          "base_uri": "https://localhost:8080/"
        },
        "id": "gGCDMQnBqMx6",
        "outputId": "4af0127c-0dd8-4765-d08e-79c0687a3589"
      },
      "execution_count": null,
      "outputs": [
        {
          "output_type": "stream",
          "name": "stdout",
          "text": [
            "Class 0: Precision = 0.9952, Recall = 0.9641, F1 Score = 0.9794\n",
            "Class 1: Precision = 0.9665, Recall = 0.9922, F1 Score = 0.9792\n",
            "Class 2: Precision = 0.9922, Recall = 0.9969, F1 Score = 0.9945\n",
            "Class 3: Precision = 1.0000, Recall = 1.0000, F1 Score = 1.0000\n",
            "Micro-average Precision: 0.9851\n",
            "Micro-average Recall: 0.9851\n",
            "Micro-average F1 Score: 0.9851\n"
          ]
        }
      ]
    },
    {
      "cell_type": "code",
      "source": [
        "from sklearn.metrics import confusion_matrix\n",
        "import seaborn as sns\n",
        "import matplotlib.pyplot as plt\n",
        "\n",
        "\n",
        "conf_matrix = confusion_matrix(y_test_int, y_pred_int)\n",
        "\n",
        "\n",
        "plt.figure(figsize=(8, 6))\n",
        "sns.heatmap(conf_matrix, annot=True, fmt=\"d\", cmap=\"Blues\",\n",
        "            xticklabels=[\"Class 0\", \"Class 1\", \"Class 2\", \"Class 3\"],\n",
        "            yticklabels=[\"Class 0\", \"Class 1\", \"Class 2\", \"Class 3\"])\n",
        "plt.xlabel('Predicted labels')\n",
        "plt.ylabel('True labels')\n",
        "plt.title('Confusion Matrix')\n",
        "plt.show()\n"
      ],
      "metadata": {
        "colab": {
          "base_uri": "https://localhost:8080/",
          "height": 564
        },
        "id": "Gl1IIaOhvKP0",
        "outputId": "52c8a93e-871a-4f03-f953-18642b8865a9"
      },
      "execution_count": null,
      "outputs": [
        {
          "output_type": "display_data",
          "data": {
            "text/plain": [
              "<Figure size 800x600 with 2 Axes>"
            ],
            "image/png": "[encoded data removed]"
          },
          "metadata": {}
        }
      ]
    },
    {
      "cell_type": "code",
      "source": [
        "model.save(\"Alzheimers_Detection_cnn_sequential.h5\")"
      ],
      "metadata": {
        "colab": {
          "base_uri": "https://localhost:8080/"
        },
        "id": "fazwTsUZrHRm",
        "outputId": "7b9a3b97-3441-4497-f18d-b1775e6569bf"
      },
      "execution_count": null,
      "outputs": [
        {
          "output_type": "stream",
          "name": "stderr",
          "text": [
            "/usr/local/lib/python3.10/dist-packages/keras/src/engine/training.py:3103: UserWarning: You are saving your model as an HDF5 file via `model.save()`. This file format is considered legacy. We recommend using instead the native Keras format, e.g. `model.save('my_model.keras')`.\n",
            "  saving_api.save_model(\n"
          ]
        }
      ]
    },
    {
      "cell_type": "code",
      "source": [
        "import tensorflow as tf\n",
        "\n",
        "# Load the saved model\n",
        "loaded_model = tf.keras.models.load_model('/content/Alzheimers_Detection_cnn_sequential.h5')"
      ],
      "metadata": {
        "id": "4vonVGVfrf__"
      },
      "execution_count": null,
      "outputs": []
    },
    {
      "cell_type": "code",
      "source": [
        "loaded_model.summary()"
      ],
      "metadata": {
        "colab": {
          "base_uri": "https://localhost:8080/"
        },
        "id": "tOLrE4-srcGe",
        "outputId": "b89d864b-b64e-42f9-ef4e-318b1faaaeee"
      },
      "execution_count": null,
      "outputs": [
        {
          "output_type": "stream",
          "name": "stdout",
          "text": [
            "Model: \"sequential\"\n",
            "_________________________________________________________________\n",
            " Layer (type)                Output Shape              Param #   \n",
            "=================================================================\n",
            " conv2d (Conv2D)             (None, 126, 126, 32)      896       \n",
            "                                                                 \n",
            " max_pooling2d (MaxPooling2  (None, 63, 63, 32)        0         \n",
            " D)                                                              \n",
            "                                                                 \n",
            " conv2d_1 (Conv2D)           (None, 61, 61, 64)        18496     \n",
            "                                                                 \n",
            " max_pooling2d_1 (MaxPoolin  (None, 30, 30, 64)        0         \n",
            " g2D)                                                            \n",
            "                                                                 \n",
            " conv2d_2 (Conv2D)           (None, 28, 28, 128)       73856     \n",
            "                                                                 \n",
            " max_pooling2d_2 (MaxPoolin  (None, 14, 14, 128)       0         \n",
            " g2D)                                                            \n",
            "                                                                 \n",
            " flatten (Flatten)           (None, 25088)             0         \n",
            "                                                                 \n",
            " dense (Dense)               (None, 512)               12845568  \n",
            "                                                                 \n",
            " dropout (Dropout)           (None, 512)               0         \n",
            "                                                                 \n",
            " dense_1 (Dense)             (None, 4)                 2052      \n",
            "                                                                 \n",
            "=================================================================\n",
            "Total params: 12940868 (49.37 MB)\n",
            "Trainable params: 12940868 (49.37 MB)\n",
            "Non-trainable params: 0 (0.00 Byte)\n",
            "_________________________________________________________________\n"
          ]
        }
      ]
    },
    {
      "cell_type": "code",
      "source": [
        "from sklearn.model_selection import train_test_split\n",
        "from sklearn.metrics import accuracy_score\n",
        "\n",
        "\n",
        "model.fit(x_train, y_train)\n",
        "\n",
        "\n",
        "y_pred = model.predict(x_val)\n",
        "\n",
        "\n",
        "accuracy = accuracy_score(y_val, y_pred)\n",
        "\n",
        "print(\"Accuracy:\", accuracy)\n"
      ],
      "metadata": {
        "id": "4MhrRQNJrtN8",
        "colab": {
          "base_uri": "https://localhost:8080/",
          "height": 790
        },
        "outputId": "629de2c7-a443-4ef4-f577-9d34d2d2a6b2"
      },
      "execution_count": null,
      "outputs": [
        {
          "output_type": "error",
          "ename": "ValueError",
          "evalue": "in user code:\n\n    File \"/usr/local/lib/python3.10/dist-packages/keras/src/engine/training.py\", line 1401, in train_function  *\n        return step_function(self, iterator)\n    File \"/usr/local/lib/python3.10/dist-packages/keras/src/engine/training.py\", line 1384, in step_function  **\n        outputs = model.distribute_strategy.run(run_step, args=(data,))\n    File \"/usr/local/lib/python3.10/dist-packages/keras/src/engine/training.py\", line 1373, in run_step  **\n        outputs = model.train_step(data)\n    File \"/usr/local/lib/python3.10/dist-packages/keras/src/engine/training.py\", line 1151, in train_step\n        loss = self.compute_loss(x, y, y_pred, sample_weight)\n    File \"/usr/local/lib/python3.10/dist-packages/keras/src/engine/training.py\", line 1209, in compute_loss\n        return self.compiled_loss(\n    File \"/usr/local/lib/python3.10/dist-packages/keras/src/engine/compile_utils.py\", line 277, in __call__\n        loss_value = loss_obj(y_t, y_p, sample_weight=sw)\n    File \"/usr/local/lib/python3.10/dist-packages/keras/src/losses.py\", line 143, in __call__\n        losses = call_fn(y_true, y_pred)\n    File \"/usr/local/lib/python3.10/dist-packages/keras/src/losses.py\", line 270, in call  **\n        return ag_fn(y_true, y_pred, **self._fn_kwargs)\n    File \"/usr/local/lib/python3.10/dist-packages/keras/src/losses.py\", line 2454, in sparse_categorical_crossentropy\n        return backend.sparse_categorical_crossentropy(\n    File \"/usr/local/lib/python3.10/dist-packages/keras/src/backend.py\", line 5775, in sparse_categorical_crossentropy\n        res = tf.nn.sparse_softmax_cross_entropy_with_logits(\n\n    ValueError: `labels.shape` must equal `logits.shape` except for the last dimension. Received: labels.shape=(128,) and logits.shape=(32, 4)\n",
          "traceback": [
            "\u001b[0;31m---------------------------------------------------------------------------\u001b[0m",
            "\u001b[0;31mValueError\u001b[0m                                Traceback (most recent call last)",
            "\u001b[0;32m<ipython-input-44-cc85c81ad26a>\u001b[0m in \u001b[0;36m<cell line: 11>\u001b[0;34m()\u001b[0m\n\u001b[1;32m      9\u001b[0m \u001b[0;34m\u001b[0m\u001b[0m\n\u001b[1;32m     10\u001b[0m \u001b[0;31m# Train your model on the training data\u001b[0m\u001b[0;34m\u001b[0m\u001b[0;34m\u001b[0m\u001b[0m\n\u001b[0;32m---> 11\u001b[0;31m \u001b[0mmodel\u001b[0m\u001b[0;34m.\u001b[0m\u001b[0mfit\u001b[0m\u001b[0;34m(\u001b[0m\u001b[0mx_train\u001b[0m\u001b[0;34m,\u001b[0m \u001b[0my_train\u001b[0m\u001b[0;34m)\u001b[0m\u001b[0;34m\u001b[0m\u001b[0;34m\u001b[0m\u001b[0m\n\u001b[0m\u001b[1;32m     12\u001b[0m \u001b[0;34m\u001b[0m\u001b[0m\n\u001b[1;32m     13\u001b[0m \u001b[0;31m# Make predictions on the validation set\u001b[0m\u001b[0;34m\u001b[0m\u001b[0;34m\u001b[0m\u001b[0m\n",
            "\u001b[0;32m/usr/local/lib/python3.10/dist-packages/keras/src/utils/traceback_utils.py\u001b[0m in \u001b[0;36merror_handler\u001b[0;34m(*args, **kwargs)\u001b[0m\n\u001b[1;32m     68\u001b[0m             \u001b[0;31m# To get the full stack trace, call:\u001b[0m\u001b[0;34m\u001b[0m\u001b[0;34m\u001b[0m\u001b[0m\n\u001b[1;32m     69\u001b[0m             \u001b[0;31m# `tf.debugging.disable_traceback_filtering()`\u001b[0m\u001b[0;34m\u001b[0m\u001b[0;34m\u001b[0m\u001b[0m\n\u001b[0;32m---> 70\u001b[0;31m             \u001b[0;32mraise\u001b[0m \u001b[0me\u001b[0m\u001b[0;34m.\u001b[0m\u001b[0mwith_traceback\u001b[0m\u001b[0;34m(\u001b[0m\u001b[0mfiltered_tb\u001b[0m\u001b[0;34m)\u001b[0m \u001b[0;32mfrom\u001b[0m \u001b[0;32mNone\u001b[0m\u001b[0;34m\u001b[0m\u001b[0;34m\u001b[0m\u001b[0m\n\u001b[0m\u001b[1;32m     71\u001b[0m         \u001b[0;32mfinally\u001b[0m\u001b[0;34m:\u001b[0m\u001b[0;34m\u001b[0m\u001b[0;34m\u001b[0m\u001b[0m\n\u001b[1;32m     72\u001b[0m             \u001b[0;32mdel\u001b[0m \u001b[0mfiltered_tb\u001b[0m\u001b[0;34m\u001b[0m\u001b[0;34m\u001b[0m\u001b[0m\n",
            "\u001b[0;32m/usr/local/lib/python3.10/dist-packages/keras/src/engine/training.py\u001b[0m in \u001b[0;36mtf__train_function\u001b[0;34m(iterator)\u001b[0m\n\u001b[1;32m     13\u001b[0m                 \u001b[0;32mtry\u001b[0m\u001b[0;34m:\u001b[0m\u001b[0;34m\u001b[0m\u001b[0;34m\u001b[0m\u001b[0m\n\u001b[1;32m     14\u001b[0m                     \u001b[0mdo_return\u001b[0m \u001b[0;34m=\u001b[0m \u001b[0;32mTrue\u001b[0m\u001b[0;34m\u001b[0m\u001b[0;34m\u001b[0m\u001b[0m\n\u001b[0;32m---> 15\u001b[0;31m                     \u001b[0mretval_\u001b[0m \u001b[0;34m=\u001b[0m \u001b[0mag__\u001b[0m\u001b[0;34m.\u001b[0m\u001b[0mconverted_call\u001b[0m\u001b[0;34m(\u001b[0m\u001b[0mag__\u001b[0m\u001b[0;34m.\u001b[0m\u001b[0mld\u001b[0m\u001b[0;34m(\u001b[0m\u001b[0mstep_function\u001b[0m\u001b[0;34m)\u001b[0m\u001b[0;34m,\u001b[0m \u001b[0;34m(\u001b[0m\u001b[0mag__\u001b[0m\u001b[0;34m.\u001b[0m\u001b[0mld\u001b[0m\u001b[0;34m(\u001b[0m\u001b[0mself\u001b[0m\u001b[0;34m)\u001b[0m\u001b[0;34m,\u001b[0m \u001b[0mag__\u001b[0m\u001b[0;34m.\u001b[0m\u001b[0mld\u001b[0m\u001b[0;34m(\u001b[0m\u001b[0miterator\u001b[0m\u001b[0;34m)\u001b[0m\u001b[0;34m)\u001b[0m\u001b[0;34m,\u001b[0m \u001b[0;32mNone\u001b[0m\u001b[0;34m,\u001b[0m \u001b[0mfscope\u001b[0m\u001b[0;34m)\u001b[0m\u001b[0;34m\u001b[0m\u001b[0;34m\u001b[0m\u001b[0m\n\u001b[0m\u001b[1;32m     16\u001b[0m                 \u001b[0;32mexcept\u001b[0m\u001b[0;34m:\u001b[0m\u001b[0;34m\u001b[0m\u001b[0;34m\u001b[0m\u001b[0m\n\u001b[1;32m     17\u001b[0m                     \u001b[0mdo_return\u001b[0m \u001b[0;34m=\u001b[0m \u001b[0;32mFalse\u001b[0m\u001b[0;34m\u001b[0m\u001b[0;34m\u001b[0m\u001b[0m\n",
            "\u001b[0;31mValueError\u001b[0m: in user code:\n\n    File \"/usr/local/lib/python3.10/dist-packages/keras/src/engine/training.py\", line 1401, in train_function  *\n        return step_function(self, iterator)\n    File \"/usr/local/lib/python3.10/dist-packages/keras/src/engine/training.py\", line 1384, in step_function  **\n        outputs = model.distribute_strategy.run(run_step, args=(data,))\n    File \"/usr/local/lib/python3.10/dist-packages/keras/src/engine/training.py\", line 1373, in run_step  **\n        outputs = model.train_step(data)\n    File \"/usr/local/lib/python3.10/dist-packages/keras/src/engine/training.py\", line 1151, in train_step\n        loss = self.compute_loss(x, y, y_pred, sample_weight)\n    File \"/usr/local/lib/python3.10/dist-packages/keras/src/engine/training.py\", line 1209, in compute_loss\n        return self.compiled_loss(\n    File \"/usr/local/lib/python3.10/dist-packages/keras/src/engine/compile_utils.py\", line 277, in __call__\n        loss_value = loss_obj(y_t, y_p, sample_weight=sw)\n    File \"/usr/local/lib/python3.10/dist-packages/keras/src/losses.py\", line 143, in __call__\n        losses = call_fn(y_true, y_pred)\n    File \"/usr/local/lib/python3.10/dist-packages/keras/src/losses.py\", line 270, in call  **\n        return ag_fn(y_true, y_pred, **self._fn_kwargs)\n    File \"/usr/local/lib/python3.10/dist-packages/keras/src/losses.py\", line 2454, in sparse_categorical_crossentropy\n        return backend.sparse_categorical_crossentropy(\n    File \"/usr/local/lib/python3.10/dist-packages/keras/src/backend.py\", line 5775, in sparse_categorical_crossentropy\n        res = tf.nn.sparse_softmax_cross_entropy_with_logits(\n\n    ValueError: `labels.shape` must equal `logits.shape` except for the last dimension. Received: labels.shape=(128,) and logits.shape=(32, 4)\n"
          ]
        }
      ]
    }
  ]
}